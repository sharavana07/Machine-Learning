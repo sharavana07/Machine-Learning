{
  "nbformat": 4,
  "nbformat_minor": 0,
  "metadata": {
    "colab": {
      "provenance": [],
      "authorship_tag": "ABX9TyOvmngGTH9v6sv8IoooOqyS",
      "include_colab_link": true
    },
    "kernelspec": {
      "name": "python3",
      "display_name": "Python 3"
    },
    "language_info": {
      "name": "python"
    }
  },
  "cells": [
    {
      "cell_type": "markdown",
      "metadata": {
        "id": "view-in-github",
        "colab_type": "text"
      },
      "source": [
        "<a href=\"https://colab.research.google.com/github/sharavana07/Machine-Learning/blob/main/house_prediction_1.ipynb\" target=\"_parent\"><img src=\"https://colab.research.google.com/assets/colab-badge.svg\" alt=\"Open In Colab\"/></a>"
      ]
    },
    {
      "cell_type": "markdown",
      "source": [
        "# Introduction  \n",
        "\n",
        "Machine learning and data analysis have become essential tools for extracting insights and making predictions from data. This script demonstrates a **linear regression model** using **Python** and popular data science libraries such as **NumPy, Pandas, Matplotlib, Seaborn, and Scikit-Learn**.  \n",
        "\n",
        "### **Key Components of the Script:**  \n",
        "1. **Data Handling:**  \n",
        "   - `pandas` is used to load and manipulate datasets.  \n",
        "   - `numpy` provides mathematical operations for efficient computations.  \n",
        "\n",
        "2. **Data Visualization:**  \n",
        "   - `matplotlib.pyplot` and `seaborn` are used to generate insightful visualizations.  \n",
        "\n",
        "3. **Model Implementation:**  \n",
        "   - The dataset is split into training and testing sets using `train_test_split`.  \n",
        "   - A **Linear Regression Model** is implemented using `LinearRegression` from `sklearn`.  \n",
        "\n",
        "4. **Performance Evaluation:**  \n",
        "   - Metrics such as **Mean Absolute Error (MAE), Mean Squared Error (MSE), and R² Score** are calculated using `sklearn.metrics` to assess model accuracy.  \n",
        "\n",
        "### **Objective:**  \n",
        "The goal is to **train and evaluate a linear regression model** to understand the relationship between input features and target variables. By visualizing and analyzing the results, we can assess how well the model performs in predicting outcomes."
      ],
      "metadata": {
        "id": "fpPXnHpE3WvF"
      }
    },
    {
      "cell_type": "code",
      "execution_count": 1,
      "metadata": {
        "id": "tgQRNQ8G3OPI"
      },
      "outputs": [],
      "source": [
        "import numpy as np\n",
        "import pandas as pd\n",
        "import matplotlib.pyplot as plt\n",
        "import seaborn as sns\n",
        "from sklearn.model_selection import train_test_split\n",
        "from sklearn.linear_model import LinearRegression\n",
        "from sklearn.metrics import mean_absolute_error, mean_squared_error, r2_score"
      ]
    },
    {
      "cell_type": "markdown",
      "source": [
        "### **Explanation of the Code**  \n",
        "\n",
        "This script generates a synthetic dataset for **house prices** based on three key features:  \n",
        "- **House Size (`Size_in_sqft`)** – Ranges from **800 to 4000 sqft**  \n",
        "- **Number of Bedrooms (`Num_Bedrooms`)** – Ranges from **1 to 5**  \n",
        "- **Number of Bathrooms (`Num_Bathrooms`)** – Ranges from **1 to 3**  \n",
        "\n",
        "The **target variable (`Price`)** is computed using a **linear equation** with some random noise to simulate real-world variations. The equation used is:  \n",
        "\n",
        "\\[\n",
        "\\text{Price} = (\\text{Size\\_in\\_sqft} \\times 300) + (\\text{Num\\_Bedrooms} \\times 50000) + (\\text{Num\\_Bathrooms} \\times 30000) + \\text{random noise}\n",
        "\\]\n",
        "\n",
        "### **Key Features of the Code:**  \n",
        "1. **Reproducibility:**  \n",
        "   - `np.random.seed(42)` ensures that the same random values are generated every time the script runs.  \n",
        "\n",
        "2. **Data Generation:**  \n",
        "   - 50,000 samples are generated using `np.random.randint()` for each feature.  \n",
        "   - The **house price** is determined based on the features, incorporating **random noise** to make the dataset more realistic.  \n",
        "\n",
        "3. **Data Storage:**  \n",
        "   - A **Pandas DataFrame (`df`)** is created to store the generated data.  \n",
        "   - The `head()` function displays the first few rows of the dataset.  \n",
        "\n",
        "This dataset will be used to train a **linear regression model** for predicting house prices based on house size, number of bedrooms, and number of bathrooms."
      ],
      "metadata": {
        "id": "kyu8LN_M30bR"
      }
    },
    {
      "cell_type": "code",
      "source": [
        "np.random.seed(42)\n",
        "\n",
        "# Generate 50,000 sample data points\n",
        "num_samples = 5000\n",
        "\n",
        "# Independent Variables (Features)\n",
        "house_size = np.random.randint(800, 4000, num_samples)  # House size in square feet\n",
        "num_bedrooms = np.random.randint(1, 6, num_samples)  # Number of bedrooms (1 to 5)\n",
        "num_bathrooms = np.random.randint(1, 4, num_samples)  # Number of bathrooms (1 to 3)\n",
        "\n",
        "# Generate house prices using a linear equation with some noise\n",
        "house_price = (\n",
        "    (house_size * 300) +  # Price contribution from house size\n",
        "    (num_bedrooms * 50000) +  # Price contribution from bedrooms\n",
        "    (num_bathrooms * 30000) +  # Price contribution from bathrooms\n",
        "    np.random.randint(20000, 100000, num_samples)  # Random noise for variation\n",
        ")\n",
        "\n",
        "# Create DataFrame\n",
        "df = pd.DataFrame({\n",
        "    'Size_in_sqft': house_size,\n",
        "    'Num_Bedrooms': num_bedrooms,\n",
        "    'Num_Bathrooms': num_bathrooms,\n",
        "    'Price': house_price\n",
        "})\n",
        "\n",
        "# Display first few rows\n",
        "print(df.head())"
      ],
      "metadata": {
        "colab": {
          "base_uri": "https://localhost:8080/"
        },
        "id": "VXVkn1mY3jcs",
        "outputId": "3cf91228-922e-481d-e532-47e7556cf948"
      },
      "execution_count": 28,
      "outputs": [
        {
          "output_type": "stream",
          "name": "stdout",
          "text": [
            "   Size_in_sqft  Num_Bedrooms  Num_Bathrooms    Price\n",
            "0          3974             5              2  1527652\n",
            "1          1660             4              3   846862\n",
            "2          2094             2              1   839671\n",
            "3          1930             1              2   778217\n",
            "4          1895             1              2   716800\n"
          ]
        }
      ]
    },
    {
      "cell_type": "markdown",
      "source": [
        "### **Explanation of the Code**  \n",
        "\n",
        "This snippet prepares the dataset for training a **Linear Regression Model** by splitting it into **training** and **testing** sets.  \n",
        "\n",
        "### **Steps Involved:**  \n",
        "\n",
        "1. **Feature Selection (`X`) and Target Variable (`y`)**  \n",
        "   - `X` contains **independent variables (features)**:  \n",
        "     - `Size_in_sqft` (House Size)  \n",
        "     - `Num_Bedrooms` (Number of Bedrooms)  \n",
        "     - `Num_Bathrooms` (Number of Bathrooms)  \n",
        "   - `y` is the **dependent variable (target output)**:  \n",
        "     - `Price` (House Price)  \n",
        "\n",
        "2. **Data Splitting using `train_test_split()`**  \n",
        "   - The dataset is divided into:  \n",
        "     - **80% Training Data (`X_train`, `y_train`)** – Used for training the model.  \n",
        "     - **20% Testing Data (`X_test`, `y_test`)** – Used for evaluating model performance.  \n",
        "   - `random_state=42` ensures **reproducibility**, meaning the split remains the same every time the code is executed.  \n",
        "\n",
        "### **Purpose of Splitting the Data**  \n",
        "- **Training Data** helps the model learn patterns and relationships between features and house prices.  \n",
        "- **Testing Data** ensures that the model generalizes well to unseen data, preventing **overfitting**.  \n",
        "\n",
        "This step is crucial in **supervised learning**, as it allows us to **train and evaluate** the model effectively."
      ],
      "metadata": {
        "id": "GZqY1JfE4Bs_"
      }
    },
    {
      "cell_type": "code",
      "source": [
        "X = df[['Size_in_sqft', 'Num_Bedrooms', 'Num_Bathrooms']]\n",
        "y = df['Price']\n",
        "\n",
        "# Split into 80% Training and 20% Testing\n",
        "X_train, X_test, y_train, y_test = train_test_split(X, y, test_size=0.6, random_state=42)\n"
      ],
      "metadata": {
        "id": "I0boV9UK34a7"
      },
      "execution_count": 29,
      "outputs": []
    },
    {
      "cell_type": "markdown",
      "source": [
        "### **Explanation of the Code**  \n",
        "\n",
        "This snippet implements and trains a **Linear Regression Model** to predict house prices based on given features.  \n",
        "\n",
        "### **Steps Involved:**  \n",
        "\n",
        "1. **Model Creation:**  \n",
        "   ```python\n",
        "   model = LinearRegression()\n",
        "   ```\n",
        "   - Initializes a **Linear Regression model** from `sklearn.linear_model`.  \n",
        "   - This model assumes a linear relationship between the features (`X`) and the target variable (`y`).  \n",
        "\n",
        "2. **Training the Model:**  \n",
        "   ```python\n",
        "   model.fit(X_train, y_train)\n",
        "   ```\n",
        "   - The model learns from the **training data** (`X_train`, `y_train`).  \n",
        "   - It finds the best-fitting line (or hyperplane in multiple dimensions) by minimizing the **mean squared error (MSE)**.  \n",
        "\n",
        "3. **Making Predictions:**  \n",
        "   ```python\n",
        "   y_pred = model.predict(X_test)\n",
        "   ```\n",
        "   - Uses the trained model to predict house prices (`y_pred`) for the **test dataset (`X_test`)**.  \n",
        "   - These predictions will be compared with actual values (`y_test`) to assess model performance.  \n",
        "\n",
        "### **Purpose of This Step**  \n",
        "- The model is trained to **map input features to output values** based on past data.  \n",
        "- Predictions will be evaluated using performance metrics (**MAE, MSE, R² score**) to measure **accuracy and reliability**."
      ],
      "metadata": {
        "id": "8ZB94RoV4W8u"
      }
    },
    {
      "cell_type": "code",
      "source": [
        "# Create and train model\n",
        "model = LinearRegression()\n",
        "model.fit(X_train, y_train)\n",
        "\n",
        "# Make predictions\n",
        "y_pred = model.predict(X_test)\n"
      ],
      "metadata": {
        "id": "rlt0kh1S4GWF"
      },
      "execution_count": 30,
      "outputs": []
    },
    {
      "cell_type": "markdown",
      "source": [
        "### **Explanation of the Code**  \n",
        "\n",
        "This snippet evaluates the **performance of the Linear Regression model** using key statistical metrics.  \n",
        "\n",
        "### **Metrics Used for Evaluation:**  \n",
        "\n",
        "1. **Mean Absolute Error (MAE):**  \n",
        "   ```python\n",
        "   mean_absolute_error(y_test, y_pred)\n",
        "   ```\n",
        "   - Measures the **average absolute difference** between actual (`y_test`) and predicted (`y_pred`) values.  \n",
        "   - Lower values indicate better accuracy.  \n",
        "   - Formula:  \n",
        "     \\[\n",
        "     MAE = \\frac{1}{n} \\sum |y_{\\text{actual}} - y_{\\text{predicted}}|\n",
        "     \\]  \n",
        "\n",
        "2. **Mean Squared Error (MSE):**  \n",
        "   ```python\n",
        "   mean_squared_error(y_test, y_pred)\n",
        "   ```\n",
        "   - Measures the **average squared difference** between actual and predicted values.  \n",
        "   - Penalizes large errors more than MAE.  \n",
        "   - Formula:  \n",
        "     \\[\n",
        "     MSE = \\frac{1}{n} \\sum (y_{\\text{actual}} - y_{\\text{predicted}})^2\n",
        "     \\]  \n",
        "\n",
        "3. **Root Mean Squared Error (RMSE):**  \n",
        "   ```python\n",
        "   np.sqrt(mean_squared_error(y_test, y_pred))\n",
        "   ```\n",
        "   - Represents the standard deviation of prediction errors.  \n",
        "   - **More interpretable than MSE** because it has the same unit as the target variable.  \n",
        "   - Formula:  \n",
        "     \\[\n",
        "     RMSE = \\sqrt{MSE}\n",
        "     \\]  \n",
        "\n",
        "4. **R-squared Score (R²):**  \n",
        "   ```python\n",
        "   r2_score(y_test, y_pred)\n",
        "   ```\n",
        "   - Measures **how well the model explains variance** in the target variable.  \n",
        "   - **Ranges from 0 to 1**:  \n",
        "     - **1** → Perfect fit  \n",
        "     - **0** → Model explains no variance  \n",
        "   - Formula:  \n",
        "     \\[\n",
        "     R^2 = 1 - \\frac{\\sum (y_{\\text{actual}} - y_{\\text{predicted}})^2}{\\sum (y_{\\text{actual}} - \\bar{y})^2}\n",
        "     \\]  \n",
        "\n",
        "### **Purpose of These Metrics**  \n",
        "- **Lower MAE, MSE, and RMSE** indicate better model accuracy.  \n",
        "- **Higher R² score** means the model explains more variance in house prices.  \n",
        "- These metrics help in assessing whether the **linear regression model is a good fit** for the dataset."
      ],
      "metadata": {
        "id": "1i6nOJUj48lc"
      }
    },
    {
      "cell_type": "code",
      "source": [
        "print(\"Mean Absolute Error (MAE):\", mean_absolute_error(y_test, y_pred))\n",
        "print(\"Mean Squared Error (MSE):\", mean_squared_error(y_test, y_pred))\n",
        "print(\"Root Mean Squared Error (RMSE):\", np.sqrt(mean_squared_error(y_test, y_pred)))\n",
        "print(\"R-squared Score (R2):\", r2_score(y_test, y_pred))"
      ],
      "metadata": {
        "colab": {
          "base_uri": "https://localhost:8080/"
        },
        "id": "Xzb_FaOQ4bbr",
        "outputId": "dd0345a7-a24e-4bfa-e791-84097fbf57ed"
      },
      "execution_count": 31,
      "outputs": [
        {
          "output_type": "stream",
          "name": "stdout",
          "text": [
            "Mean Absolute Error (MAE): 19923.171786570856\n",
            "Mean Squared Error (MSE): 531072297.2803579\n",
            "Root Mean Squared Error (RMSE): 23045.00590757915\n",
            "R-squared Score (R2): 0.9937029457490896\n"
          ]
        }
      ]
    },
    {
      "cell_type": "markdown",
      "source": [
        "### **Explanation of the Code**  \n",
        "\n",
        "This snippet **visualizes** the performance of the **Linear Regression model** using a scatter plot.  \n",
        "\n",
        "### **Breakdown of the Code:**  \n",
        "\n",
        "1. **Scatter Plot of Actual vs. Predicted Values:**  \n",
        "   ```python\n",
        "   plt.scatter(y_test, y_pred, alpha=0.5)\n",
        "   ```\n",
        "   - Plots **actual house prices (`y_test`)** on the x-axis.  \n",
        "   - Plots **predicted house prices (`y_pred`)** on the y-axis.  \n",
        "   - `alpha=0.5` makes points **semi-transparent** for better visibility.  \n",
        "\n",
        "2. **Axis Labels and Title:**  \n",
        "   ```python\n",
        "   plt.xlabel(\"Actual Prices\")\n",
        "   plt.ylabel(\"Predicted Prices\")\n",
        "   plt.title(\"Actual vs Predicted House Prices\")\n",
        "   ```\n",
        "   - Adds **clear labels** for better understanding.  \n",
        "\n",
        "3. **Show the Plot:**  \n",
        "   ```python\n",
        "   plt.show()\n",
        "   ```\n",
        "   - Displays the scatter plot.  \n",
        "\n",
        "### **Interpretation of the Plot:**  \n",
        "- **If the model is perfect** → Points lie **exactly on the diagonal line** (y = x).  \n",
        "- **If the model has some errors** → Points scatter around the diagonal.  \n",
        "- **If there's no correlation** → Points will be widely spread with no clear pattern.  \n",
        "\n",
        "### **Purpose of This Visualization:**  \n",
        "- Helps in identifying patterns, trends, and **potential errors** in the model’s predictions.  \n",
        "- If the points **deviate too much from the diagonal**, it suggests the model needs improvement."
      ],
      "metadata": {
        "id": "v_ifUnOp5IyT"
      }
    },
    {
      "cell_type": "code",
      "source": [
        "plt.scatter(y_test, y_pred, alpha=0.1)\n",
        "plt.xlabel(\"Actual Prices\")\n",
        "plt.ylabel(\"Predicted Prices\")\n",
        "plt.title(\"Actual vs Predicted House Prices\")\n",
        "plt.show()"
      ],
      "metadata": {
        "colab": {
          "base_uri": "https://localhost:8080/",
          "height": 472
        },
        "id": "_LFByEC25J2L",
        "outputId": "8ef7f94f-9b85-406b-e941-8a255a0341b1"
      },
      "execution_count": 32,
      "outputs": [
        {
          "output_type": "display_data",
          "data": {
            "text/plain": [
              "<Figure size 640x480 with 1 Axes>"
            ],
            "image/png": "[encoded data removed]"
          },
          "metadata": {}
        }
      ]
    }
  ]
}